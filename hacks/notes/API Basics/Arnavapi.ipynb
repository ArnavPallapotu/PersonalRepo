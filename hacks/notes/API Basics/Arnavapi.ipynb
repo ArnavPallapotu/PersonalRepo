{
 "cells": [
  {
   "cell_type": "markdown",
   "id": "9fe8fe38",
   "metadata": {},
   "source": [
    "# API Basics — Rubric & Async/Await Walkthrough\n",
    "\n",
    "Objective: Capture the rubric criteria from the provided GitHub issue and show concrete examples of using the existing `Requestor` (api.js) and `Handler` (handler.js) to demonstrate `async`/`await`, parameterized API calls (checkbox -> `genreId`), and rendering.\n"
   ]
  },
  {
   "cell_type": "markdown",
   "id": "3fcac2ad",
   "metadata": {},
   "source": [
    "## Rubric (summary)\n",
    "\n",
    "The rubric scores projects on understanding of APIs and best practices.\n",
    "\n",
    "- Demonstrated Understanding (40 pts): Explain API concepts, `async`/`await`, JSON format, and how results are displayed (15 + 15 + 10).\n",
    "- Code Architecture & Modularity (20 pts): Separate API layer, models, and rendering; keep code reusable and extensible (20 pts).\n",
    "- Correctness of API Usage & Async Handling (20 pts): Clean, parameterized requests, safe JSON parsing, correct `async`/`await` usage.\n",
    "- Error Handling & Robustness (10 pts): Validate inputs, handle empty results and network errors gracefully.\n",
    "- Code Quality & Style (10 pts): Readable, idiomatic JS with comments and documentation.\n"
   ]
  },
  {
   "cell_type": "markdown",
   "id": "614f58a3",
   "metadata": {},
   "source": [
    "## How this notebook maps to the rubric\n",
    "\n",
    "- Show the `Requestor` as the API layer (separation of concerns).\n",
    "- Show `Handler` as the display layer (rendering responsibility).\n",
    "- Demonstrate `async`/`await` usage with error handling and JSON parsing.\n",
    "- Show how adding a checkbox (genre filter) is a parameterized request that tests correctness and modularity.\n"
   ]
  },
  {
   "cell_type": "markdown",
   "id": "ee9d4b86",
   "metadata": {},
   "source": [
    "## Requestor (api.js) — key points\n",
    "\n",
    "`Requestor` is a small API wrapper that builds query strings and performs `fetch()` calls. Important parts to highlight: `buildQueryString`, `search`, and `request` which does the `fetch` and `await response.json()` parsing.\n"
   ]
  },
  {
   "cell_type": "markdown",
   "id": "fd6b879b",
   "metadata": {},
   "source": [
    "```javascript\n",
    "// Example: using Requestor with async/await\n",
    "import { Requestor } from '../assets/js/itunes/api.js';\n",
    "const API_URL = 'https://itunes.apple.com';\n",
    "const requestor = new Requestor(API_URL);\n",
    "\n",
    "async function exampleSearch() {\n",
    "  try {\n",
    "    // await is used to pause until the promise from fetch resolves\n",
    "    const data = await requestor.search({ term: 'adele', limit: 5, media: 'music' });\n",
    "    console.log('Got results:', data);\n",
    "    // Hand off to a display layer (Handler) or renderer here\n",
    "  } catch (err) {\n",
    "    // Proper error handling satisfies the rubric's robustness criteria\n",
    "    console.error('Search failed', err);\n",
    "  }\n",
    "}\n",
    "\n",
    "// Call the function (in a browser environment)\n",
    "// exampleSearch();\n",
    "```\n"
   ]
  },
  {
   "cell_type": "markdown",
   "id": "111d2932",
   "metadata": {},
   "source": [
    "## Handler (handler.js) — rendering results\n",
    "\n",
    "`Handler` is responsible for turning API results into DOM elements. It exposes `clearResults()`, `displayResults(data)`, `handleResponse(data)`, and `handleError(err)`. This separation keeps rendering logic out of the API layer (good architecture).\n"
   ]
  },
  {
   "cell_type": "markdown",
   "id": "527500d5",
   "metadata": {},
   "source": [
    "```javascript\n",
    "// Example: passing Requestor results to Handler (async/await + display)\n",
    "import { Requestor } from '../assets/js/itunes/api.js';\n",
    "import { Handler } from '../assets/js/itunes/handler.js';\n",
    "\n",
    "const requestor = new Requestor('https://itunes.apple.com');\n",
    "const handler = new Handler('result'); // id of the <tbody> container\n",
    "\n",
    "async function searchAndShow(term) {\n",
    "  try {\n",
    "    const data = await requestor.search({ term, media: 'music', limit: 10 });\n",
    "    // handler.handleResponse delegates to displayResults internally\n",
    "    handler.handleResponse(data);\n",
    "  } catch (err) {\n",
    "    handler.handleError(err);\n",
    "  }\n",
    "}\n",
    "\n",
    "// searchAndShow('coldplay');\n",
    "```\n"
   ]
  },
  {
   "cell_type": "markdown",
   "id": "29248ac6",
   "metadata": {},
   "source": [
    "## Checkbox (genre) example — how a UI change highlights rubric items\n",
    "\n",
    "Adding a small checkbox for `Pop?` (genreId = 14) shows:\n",
    "\n",
    "- Parameterized requests (Correctness of API Usage) — the API call changes based on UI input, demonstrating robust, testable behavior.\n",
    "- Modularity — the UI reads the checkbox and builds an options object passed to `Requestor` (keeps concerns separated).\n",
    "- Error-handling/testing — you can test that the `genreId` is present in the built query string and that results match expected genres.\n"
   ]
  },
  {
   "cell_type": "markdown",
   "id": "82c4b55e",
   "metadata": {},
   "source": [
    "```javascript\n",
    "// Checkbox integration snippet (from music-api.md)\n",
    "function buildSearchOptionsFromUI() {\n",
    "  const term = document.getElementById('filterInput').value.trim();\n",
    "  const opts = { term, limit: 20, media: 'music' };\n",
    "  const popEl = document.getElementById('genrePop');\n",
    "  if (popEl && popEl.checked) opts.genreId = 14;\n",
    "  return opts;\n",
    "}\n",
    "\n",
    "async function searchFromUI() {\n",
    "  const opts = buildSearchOptionsFromUI();\n",
    "  try {\n",
    "    const data = await requestor.search(opts);\n",
    "    handler.handleResponse(data);\n",
    "  } catch (err) {\n",
    "    handler.handleError(err);\n",
    "  }\n",
    "}\n",
    "```\n"
   ]
  },
  {
   "cell_type": "markdown",
   "id": "8fb4eac3",
   "metadata": {},
   "source": [
    "## How this demonstrates rubric points (quick mapping)\n",
    "\n",
    "- `async/await` usage: `await requestor.search(opts)` — non-blocking, easy-to-read flow (Correctness of Async Handling).\n",
    "- API layering: `Requestor` builds the URL and handles fetch; `Handler` only deals with DOM (Architecture & Modularity).\n",
    "- Parameterized requests: Checkbox -> `genreId` shows extensibility & correctness.\n",
    "- Error handling: `try/catch` around `await` and using `handler.handleError` for UI-visible feedback (Robustness).\n"
   ]
  },
  {
   "cell_type": "markdown",
   "id": "66fda17e",
   "metadata": {},
   "source": [
    "## Quick walkthrough — what to test manually:\n",
    "\n",
    "1. Open the page that uses `music-api.md` (or serve the repo).\n",
    "2. Type a search term and click `Search`. Verify console logs from `runTests()` and that results appear.\n",
    "3. Check the `Pop?` checkbox and search again. Confirm the query string includes `genreId=14` in the Network tab.\n",
    "4. Simulate network failure (offline) and confirm `handler.handleError` shows a user-friendly message.\n",
    "5. Inspect code separation: `Requestor` should only build URLs and fetch; `Handler` should only create DOM nodes.\n"
   ]
  },
  {
   "cell_type": "markdown",
   "id": "e245dd75",
   "metadata": {},
   "source": [
    "## References & links\n",
    "\n",
    "- `assets/js/itunes/api.js` (Requestor) — builds queries and performs fetch().\n",
    "- `assets/js/itunes/handler.js` (Handler) — display logic for results.\n",
    "- `hacks/music-api.md` — page that wires Requestor + Handler and includes the `Pop?` checkbox example.\n",
    "\n"
   ]
  }
 ],
 "metadata": {
  "language_info": {
   "name": "python"
  }
 },
 "nbformat": 4,
 "nbformat_minor": 5
}
